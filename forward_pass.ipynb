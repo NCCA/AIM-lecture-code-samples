{
 "cells": [
  {
   "cell_type": "code",
   "execution_count": 2,
   "metadata": {},
   "outputs": [],
   "source": [
    "import torch\n",
    "import math\n",
    "import matplotlib.pyplot as plt\n",
    "from IPython.display import clear_output\n",
    "\n",
    "dtype = torch.float\n",
    "# device = torch.device('cuda' if torch.cuda.is_available() else 'cpu')\n",
    "device = torch.device(\"cpu\")"
   ]
  },
  {
   "cell_type": "markdown",
   "metadata": {},
   "source": [
    "# Util"
   ]
  },
  {
   "cell_type": "code",
   "execution_count": 3,
   "metadata": {},
   "outputs": [],
   "source": [
    "import os\n",
    "root_img_path = '/workspace/AIM-lecture-code-samples/assets/forward_demo'\n",
    "def generate_video(root_img_path):\n",
    "    os.system(f\"ffmpeg -y -r 60 -i {root_img_path}/%4d.png {root_img_path}/forward_demo.mp4\")\n",
    "    os.system(f\"rm -rf {root_img_path}/*.png\")"
   ]
  },
  {
   "cell_type": "markdown",
   "metadata": {},
   "source": [
    "# Create random input and output data"
   ]
  },
  {
   "cell_type": "code",
   "execution_count": 4,
   "metadata": {},
   "outputs": [],
   "source": [
    "x = torch.linspace(-math.pi, math.pi, 2000, device=device, dtype=dtype)\n",
    "y = torch.sin(x)"
   ]
  },
  {
   "cell_type": "code",
   "execution_count": 5,
   "metadata": {},
   "outputs": [
    {
     "data": {
      "text/plain": [
       "<matplotlib.legend.Legend at 0x7fad68d95760>"
      ]
     },
     "execution_count": 5,
     "metadata": {},
     "output_type": "execute_result"
    },
    {
     "data": {
      "image/png": "[encoded data removed]",
      "text/plain": [
       "<Figure size 432x288 with 1 Axes>"
      ]
     },
     "metadata": {
      "needs_background": "light"
     },
     "output_type": "display_data"
    }
   ],
   "source": [
    "plt.plot(x, label='x')\n",
    "plt.plot(y, label='y')\n",
    "plt.legend()"
   ]
  },
  {
   "cell_type": "markdown",
   "metadata": {},
   "source": [
    "# Randomly initialize weights (Our model)"
   ]
  },
  {
   "cell_type": "code",
   "execution_count": 6,
   "metadata": {},
   "outputs": [
    {
     "name": "stdout",
     "output_type": "stream",
     "text": [
      "tensor(-0.6907) tensor(0.4572) tensor(0.0584) tensor(0.2225)\n"
     ]
    }
   ],
   "source": [
    "a = torch.randn((), device=device, dtype=dtype)\n",
    "b = torch.randn((), device=device, dtype=dtype)\n",
    "c = torch.randn((), device=device, dtype=dtype)\n",
    "d = torch.randn((), device=device, dtype=dtype)\n",
    "\n",
    "learning_rate = 1e-6\n",
    "\n",
    "print(a,b,c,d)"
   ]
  },
  {
   "cell_type": "markdown",
   "metadata": {},
   "source": [
    "# Opimise (forward and backward pass)"
   ]
  },
  {
   "cell_type": "code",
   "execution_count": null,
   "metadata": {},
   "outputs": [],
   "source": [
    "running_loss = []\n",
    "for t in range(2000):\n",
    "\n",
    "    # Forward pass\n",
    "    y_hat = a + (b * x) + (c * (x ** 2)) + (d * (x ** 3))\n",
    "\n",
    "    # Compute loss\n",
    "    loss = (y_hat - y).pow(2).sum().item()\n",
    "    running_loss.append(loss)\n",
    "\n",
    "    # Plot our prediction\n",
    "    plt.figure()\n",
    "    plt.plot(y_hat, label='y_hat')\n",
    "    plt.plot(y, label='y')\n",
    "    plt.legend()\n",
    "    # plt.savefig(f\"{root_img_path}/{t:04}.png\")\n",
    "    clear_output(wait=True)\n",
    "    plt.show()\n",
    "    plt.close()\n",
    "\n",
    "    # Backprop to compute gradients of a, b, c, d with respect to loss\n",
    "    grad_y_hat = 2.0 * (y_hat - y)\n",
    "    grad_a = grad_y_hat.sum()\n",
    "    grad_b = (grad_y_hat * x).sum()\n",
    "    grad_c = (grad_y_hat * x ** 2).sum()\n",
    "    grad_d = (grad_y_hat * x ** 3).sum()\n",
    "\n",
    "    # Update weights using gradient descent\n",
    "    a -= learning_rate * grad_a\n",
    "    b -= learning_rate * grad_b\n",
    "    c -= learning_rate * grad_c\n",
    "    d -= learning_rate * grad_d"
   ]
  },
  {
   "cell_type": "code",
   "execution_count": 8,
   "metadata": {},
   "outputs": [
    {
     "data": {
      "image/png": "[encoded data removed]",
      "text/plain": [
       "<Figure size 432x288 with 1 Axes>"
      ]
     },
     "metadata": {
      "needs_background": "light"
     },
     "output_type": "display_data"
    },
    {
     "name": "stdout",
     "output_type": "stream",
     "text": [
      "running_patience: 2\n",
      "running_loss: 402.5963439941406\n",
      "Early stopping trigered at 12\n"
     ]
    }
   ],
   "source": [
    "patience = 2\n",
    "warmup = 10\n",
    "running_patience = 0\n",
    "running_loss = []\n",
    "\n",
    "for t in range(2000):\n",
    "\n",
    "    # Forward pass\n",
    "    y_hat = a + (b * x) + (c * (x ** 2)) + (d * (x ** 3))\n",
    "\n",
    "    # Compute loss\n",
    "    loss = (y_hat - y).pow(2).sum().item()\n",
    "    running_loss.append(loss)\n",
    "    \n",
    "    #################################################\n",
    "    # Force model to think it is no longer leaning \n",
    "    #################################################\n",
    "    if t >= warmup:\n",
    "        loss = running_loss[-1]\n",
    "    #################################################\n",
    "\n",
    "    running_loss.append(loss)\n",
    "\n",
    "    # Plot our prediction\n",
    "    plt.figure()\n",
    "    plt.plot(running_loss, label='Loss')\n",
    "    plt.legend()\n",
    "    clear_output(wait=True)\n",
    "    plt.show()\n",
    "    plt.close()\n",
    "\n",
    "    # Backprop to compute gradients of a, b, c, d with respect to loss\n",
    "    grad_y_hat = 2.0 * (y_hat - y)\n",
    "    grad_a = grad_y_hat.sum()\n",
    "    grad_b = (grad_y_hat * x).sum()\n",
    "    grad_c = (grad_y_hat * x ** 2).sum()\n",
    "    grad_d = (grad_y_hat * x ** 3).sum()\n",
    "\n",
    "    # Update weights using gradient descent\n",
    "    a -= learning_rate * grad_a\n",
    "    b -= learning_rate * grad_b\n",
    "    c -= learning_rate * grad_c\n",
    "    d -= learning_rate * grad_d\n",
    "\n",
    "    # Early stoping\n",
    "    if loss >= running_loss[-1] and t>warmup:\n",
    "        running_patience += 1\n",
    "        print(f'running_patience: {running_patience}')\n",
    "        print(f'running_loss: {running_loss[-1]}')\n",
    "\n",
    "        if running_patience >= patience:\n",
    "            print(f'Early stopping trigered at {t}')\n",
    "            break\n",
    "    else:\n",
    "        running_patience = 0\n",
    "        print(f'running_patience: {running_patience}')\n",
    "        print(f'running_loss: {running_loss[-1]}')\n",
    "        print(f'loss: {loss}')\n"
   ]
  },
  {
   "cell_type": "code",
   "execution_count": null,
   "metadata": {},
   "outputs": [],
   "source": []
  }
 ],
 "metadata": {
  "kernelspec": {
   "display_name": "Python 3.8.12 ('base')",
   "language": "python",
   "name": "python3"
  },
  "language_info": {
   "codemirror_mode": {
    "name": "ipython",
    "version": 3
   },
   "file_extension": ".py",
   "mimetype": "text/x-python",
   "name": "python",
   "nbconvert_exporter": "python",
   "pygments_lexer": "ipython3",
   "version": "3.8.12"
  },
  "orig_nbformat": 4,
  "vscode": {
   "interpreter": {
    "hash": "d4d1e4263499bec80672ea0156c357c1ee493ec2b1c70f0acce89fc37c4a6abe"
   }
  }
 },
 "nbformat": 4,
 "nbformat_minor": 2
}
